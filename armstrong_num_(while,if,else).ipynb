{
  "nbformat": 4,
  "nbformat_minor": 0,
  "metadata": {
    "colab": {
      "name": "armstrong_num_(while,if,else).ipynb",
      "provenance": [],
      "collapsed_sections": [],
      "authorship_tag": "ABX9TyMsvJ2zBzNrqhI4noQq6akR",
      "include_colab_link": true
    },
    "kernelspec": {
      "name": "python3",
      "display_name": "Python 3"
    },
    "language_info": {
      "name": "python"
    }
  },
  "cells": [
    {
      "cell_type": "markdown",
      "metadata": {
        "id": "view-in-github",
        "colab_type": "text"
      },
      "source": [
        "<a href=\"https://colab.research.google.com/github/Serrgen/Python_Brief/blob/main/armstrong_num_(while%2Cif%2Celse).ipynb\" target=\"_parent\"><img src=\"https://colab.research.google.com/assets/colab-badge.svg\" alt=\"Open In Colab\"/></a>"
      ]
    },
    {
      "cell_type": "markdown",
      "metadata": {
        "id": "IUFxRyqwDV53"
      },
      "source": [
        "Python Program to Check Armstrong Number\n",
        "A number is called Armstrong number if it is equal to the sum of the cubes of its own digits. For example: 153 is an Armstrong number since 153 = 1*1*1 + 5*5*5 + 3*3*3. "
      ]
    },
    {
      "cell_type": "code",
      "metadata": {
        "colab": {
          "base_uri": "https://localhost:8080/"
        },
        "id": "5znqzW9Eg6gp",
        "outputId": "a84417f3-be96-4e43-eb1e-5c05fe8fea33"
      },
      "source": [
        "num = float(input(\"Enter a number: \"))\n",
        "\n",
        "arm = 0  \n",
        "\n",
        "num1 = num\n",
        "\n",
        "num1 = int(num1)\n",
        "while num1 > 0:  \n",
        "   arm2 = num1 % 10  \n",
        "   arm += arm2 ** 3  \n",
        "   num1 //= 10  \n",
        "\n",
        "if num == int(arm):\n",
        "  print(int(num),\"is an Armstrong number\")\n",
        "elif float(num) - int(num) !=0:\n",
        "  print(num, \" It is an invalid entry. Don't use non-numeric, float, or negative values!\")\n",
        "elif num < 0:\n",
        "  print(num, \" It is an invalid entry. Don't use non-numeric, float, or negative values!\")\n",
        "else:\n",
        "  print(int(num),\"is not a Armstrong number\")"
      ],
      "execution_count": 10,
      "outputs": [
        {
          "output_type": "stream",
          "text": [
            "Enter a number: 370\n",
            "370 is an Armstrong number\n"
          ],
          "name": "stdout"
        }
      ]
    }
  ]
}