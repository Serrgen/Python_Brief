{
  "nbformat": 4,
  "nbformat_minor": 0,
  "metadata": {
    "colab": {
      "name": "lottery(random,randrage-sample).ipynb",
      "provenance": [],
      "collapsed_sections": [],
      "authorship_tag": "ABX9TyOzH+Urkw9ks92NmX7Mu+hQ",
      "include_colab_link": true
    },
    "kernelspec": {
      "name": "python3",
      "display_name": "Python 3"
    },
    "language_info": {
      "name": "python"
    }
  },
  "cells": [
    {
      "cell_type": "markdown",
      "metadata": {
        "id": "view-in-github",
        "colab_type": "text"
      },
      "source": [
        "<a href=\"https://colab.research.google.com/github/Serrgen/Python_Brief/blob/main/lottery(random%2Crandrage_sample).ipynb\" target=\"_parent\"><img src=\"https://colab.research.google.com/assets/colab-badge.svg\" alt=\"Open In Colab\"/></a>"
      ]
    },
    {
      "cell_type": "markdown",
      "metadata": {
        "id": "HG492IwkcvUh"
      },
      "source": [
        "Random Lottery Pick. Generate 100 random lottery tickets and pick two lucky tickets from it as a winner.\n",
        "\n",
        "The lottery number must be 10 digits long.\n",
        "\n",
        "sample output:\"Lucky 2 lottery tickets are [6764548492, 3615771612]\""
      ]
    },
    {
      "cell_type": "code",
      "metadata": {
        "colab": {
          "base_uri": "https://localhost:8080/"
        },
        "id": "bQaCyM0wcsEp",
        "outputId": "e6811f1a-9979-48eb-ae41-d45e70b59212"
      },
      "source": [
        "import random\n",
        "lottery_list = []\n",
        "for i in range(100):\n",
        "    lottery_list.append(random.randrange(1000000000, 9999999999))\n",
        "\n",
        "print(\"Locky tickets: {}\".format(random.sample(lottery_list, 2)))"
      ],
      "execution_count": null,
      "outputs": [
        {
          "output_type": "stream",
          "text": [
            "Locky tickets: [5205442209, 4493125959]\n"
          ],
          "name": "stdout"
        }
      ]
    }
  ]
}