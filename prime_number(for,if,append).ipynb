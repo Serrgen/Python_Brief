{
  "nbformat": 4,
  "nbformat_minor": 0,
  "metadata": {
    "colab": {
      "name": "prime_number(for,if,append).ipynb",
      "provenance": [],
      "collapsed_sections": [],
      "authorship_tag": "ABX9TyO7Rw3Kij6/YMlg8yJ3fwF1",
      "include_colab_link": true
    },
    "kernelspec": {
      "name": "python3",
      "display_name": "Python 3"
    },
    "language_info": {
      "name": "python"
    }
  },
  "cells": [
    {
      "cell_type": "markdown",
      "metadata": {
        "id": "view-in-github",
        "colab_type": "text"
      },
      "source": [
        "<a href=\"https://colab.research.google.com/github/Serrgen/Python_Brief/blob/main/prime_number(for%2Cif%2Cappend).ipynb\" target=\"_parent\"><img src=\"https://colab.research.google.com/assets/colab-badge.svg\" alt=\"Open In Colab\"/></a>"
      ]
    },
    {
      "cell_type": "markdown",
      "metadata": {
        "id": "B8Wc3uAittnI"
      },
      "source": [
        "prime number program to input number"
      ]
    },
    {
      "cell_type": "code",
      "metadata": {
        "colab": {
          "base_uri": "https://localhost:8080/"
        },
        "id": "x7q3c-u3MNwe",
        "outputId": "297c61e8-7f20-4ce2-b5d3-53e80fffe6eb"
      },
      "source": [
        "number = int(input(\"enter num: \"))\n",
        "\n",
        "list1 = []\n",
        "for num in range(2, number + 1):  \n",
        "   if num > 1:\n",
        "       for i in range(2, num):\n",
        "           if (num % i) == 0:\n",
        "               break\n",
        "       else:\n",
        "           list1.append(num)\n",
        "print(list1)"
      ],
      "execution_count": 3,
      "outputs": [
        {
          "output_type": "stream",
          "text": [
            "enter num: 50\n",
            "[2, 3, 5, 7, 11, 13, 17, 19, 23, 29, 31, 37, 41, 43, 47]\n"
          ],
          "name": "stdout"
        }
      ]
    }
  ]
}