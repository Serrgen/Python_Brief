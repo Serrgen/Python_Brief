{
  "nbformat": 4,
  "nbformat_minor": 0,
  "metadata": {
    "colab": {
      "name": "count_datatypes(def,args,count).ipynb",
      "provenance": [],
      "collapsed_sections": [],
      "authorship_tag": "ABX9TyNNT8lzAfBw+7Ce4DIMBryg",
      "include_colab_link": true
    },
    "kernelspec": {
      "name": "python3",
      "display_name": "Python 3"
    },
    "language_info": {
      "name": "python"
    }
  },
  "cells": [
    {
      "cell_type": "markdown",
      "metadata": {
        "id": "view-in-github",
        "colab_type": "text"
      },
      "source": [
        "<a href=\"https://colab.research.google.com/github/Serrgen/Python_Brief/blob/main/count_datatypes(def%2Cargs%2Ccount).ipynb\" target=\"_parent\"><img src=\"https://colab.research.google.com/assets/colab-badge.svg\" alt=\"Open In Colab\"/></a>"
      ]
    },
    {
      "cell_type": "markdown",
      "metadata": {
        "id": "ioZFxwypy3Yb"
      },
      "source": [
        "Given a function that accepts unlimited arguments, count how many data types are in those arguments.\n",
        "\n",
        "List order is:[int, str, bool, list, tuple, dictionary]\n",
        "\n",
        "Example\n",
        "count_datatypes(\"Hello\", \"Bye\", True, True, False, {\"1\": \"One\", \"2\": \"Two\"}, [1, 3], {\"Brayan\": 18}, 25, 23) ➞ [2, 2, 3, 1, 0, 2]"
      ]
    },
    {
      "cell_type": "code",
      "metadata": {
        "id": "zcGbt1LulVqA",
        "colab": {
          "base_uri": "https://localhost:8080/"
        },
        "outputId": "a3987307-e73b-4bb0-affb-21de094bb70a"
      },
      "source": [
        "def count_datatypes(*args):\n",
        "  list1 = []\n",
        "  for i in args:\n",
        "    if type(i) == int:\n",
        "      list1.append(\"int\")\n",
        "    elif type(i) == str:\n",
        "      list1.append(\"str\")\n",
        "    elif type(i) == bool:\n",
        "      list1.append(\"bool\")\n",
        "    elif type(i) == list:\n",
        "      list1.append(\"list\")\n",
        "    elif type(i) == tuple:\n",
        "      list1.append(\"tuple\")\n",
        "    elif type(i) == dict:\n",
        "      list1.append(\"dict\")\n",
        "  print(list1.count(\"int\"), list1.count(\"str\"),  list1.count(\"bool\"), list1.count(\"list\"), list1.count(\"tuple\"), list1.count(\"tuple\"))\n",
        "\n",
        "count_datatypes(1,True, 2,\"wer\", (1,2), False, {\"aws\"}, [1,2])"
      ],
      "execution_count": 1,
      "outputs": [
        {
          "output_type": "stream",
          "text": [
            "2 1 2 1 1 1\n"
          ],
          "name": "stdout"
        }
      ]
    }
  ]
}