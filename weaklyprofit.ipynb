{
  "nbformat": 4,
  "nbformat_minor": 0,
  "metadata": {
    "colab": {
      "name": "weaklyprofit.ipynb",
      "provenance": [],
      "collapsed_sections": [],
      "authorship_tag": "ABX9TyM2sne3ffbvYoda398Fb8Xa",
      "include_colab_link": true
    },
    "kernelspec": {
      "name": "python3",
      "display_name": "Python 3"
    },
    "language_info": {
      "name": "python"
    }
  },
  "cells": [
    {
      "cell_type": "markdown",
      "metadata": {
        "id": "view-in-github",
        "colab_type": "text"
      },
      "source": [
        "<a href=\"https://colab.research.google.com/github/Serrgen/Python_Brief/blob/main/weaklyprofit.ipynb\" target=\"_parent\"><img src=\"https://colab.research.google.com/assets/colab-badge.svg\" alt=\"Open In Colab\"/></a>"
      ]
    },
    {
      "cell_type": "code",
      "metadata": {
        "colab": {
          "base_uri": "https://localhost:8080/"
        },
        "id": "h04f-GZ9wbdk",
        "outputId": "6c66e274-18ab-4ed8-db5f-8238ca8c96e6"
      },
      "source": [
        "capital = float(input(\"capital: \"))\n",
        "\n",
        "profit = float(input(\"daily_profit: \"))\n",
        "\n",
        "weakly_profit = capital * (profit ** 7) \n",
        "\n",
        "print(round(weakly_profit,2))"
      ],
      "execution_count": 5,
      "outputs": [
        {
          "output_type": "stream",
          "text": [
            "capital: 1000\n",
            "daily_profit: 1.3\n",
            "6274.85\n"
          ],
          "name": "stdout"
        }
      ]
    }
  ]
}