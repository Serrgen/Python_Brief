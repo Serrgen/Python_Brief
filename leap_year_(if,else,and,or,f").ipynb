{
  "nbformat": 4,
  "nbformat_minor": 0,
  "metadata": {
    "colab": {
      "name": "leap_year_(if,else,and,or,f\").ipynb",
      "provenance": [],
      "collapsed_sections": [],
      "authorship_tag": "ABX9TyOxs9nBmAmhUgD/rSXZtHiF",
      "include_colab_link": true
    },
    "kernelspec": {
      "name": "python3",
      "display_name": "Python 3"
    },
    "language_info": {
      "name": "python"
    }
  },
  "cells": [
    {
      "cell_type": "markdown",
      "metadata": {
        "id": "view-in-github",
        "colab_type": "text"
      },
      "source": [
        "<a href=\"https://colab.research.google.com/github/Serrgen/Python_Brief/blob/main/leap_year_(if%2Celse%2Cand%2Cor%2Cf%22).ipynb\" target=\"_parent\"><img src=\"https://colab.research.google.com/assets/colab-badge.svg\" alt=\"Open In Colab\"/></a>"
      ]
    },
    {
      "cell_type": "markdown",
      "metadata": {
        "id": "b8OA424m_LJH"
      },
      "source": [
        "leap year program"
      ]
    },
    {
      "cell_type": "code",
      "metadata": {
        "colab": {
          "base_uri": "https://localhost:8080/"
        },
        "id": "sCIGa3OQ92QI",
        "outputId": "b6bd38ef-bc0e-43ca-be1d-b13dec1c0c34"
      },
      "source": [
        "year = int(input(\"enter year: \"))\n",
        "\n",
        "if year % 4 == 0 and (year % 100 != 0 or year % 400 == 0):\n",
        "  print(f\"{year} is a leap year.\")\n",
        "else:\n",
        "   print(f\"{year} is not a leap year.\")"
      ],
      "execution_count": 1,
      "outputs": [
        {
          "output_type": "stream",
          "text": [
            "enter year: 2020\n",
            "2020 is a leap year.\n"
          ],
          "name": "stdout"
        }
      ]
    }
  ]
}