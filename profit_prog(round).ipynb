{
  "nbformat": 4,
  "nbformat_minor": 0,
  "metadata": {
    "colab": {
      "name": "profit_prog(round).ipynb",
      "provenance": [],
      "collapsed_sections": [],
      "authorship_tag": "ABX9TyO3/G0IlRS6j8Dr8D7fsGfo",
      "include_colab_link": true
    },
    "kernelspec": {
      "name": "python3",
      "display_name": "Python 3"
    },
    "language_info": {
      "name": "python"
    }
  },
  "cells": [
    {
      "cell_type": "markdown",
      "metadata": {
        "id": "view-in-github",
        "colab_type": "text"
      },
      "source": [
        "<a href=\"https://colab.research.google.com/github/Serrgen/Python_Brief/blob/main/profit_prog(round).ipynb\" target=\"_parent\"><img src=\"https://colab.research.google.com/assets/colab-badge.svg\" alt=\"Open In Colab\"/></a>"
      ]
    },
    {
      "cell_type": "markdown",
      "metadata": {
        "id": "TWH2_xjdvTIa"
      },
      "source": [
        "profit program "
      ]
    },
    {
      "cell_type": "code",
      "metadata": {
        "colab": {
          "base_uri": "https://localhost:8080/"
        },
        "id": "H1pRxZiFX6x0",
        "outputId": "ac483753-297e-4c7c-cd0c-d6c2d91dc11a"
      },
      "source": [
        "sale = int(input(\"sales_amount: \"))\n",
        "\n",
        "cost_value = 31.87\n",
        "sell_value = 45.00\n",
        "\n",
        "total_profit = sale * (sell_value - cost_value)\n",
        "\n",
        "print(round(total_profit))"
      ],
      "execution_count": 1,
      "outputs": [
        {
          "output_type": "stream",
          "text": [
            "sales_amount: 1000\n",
            "13130\n"
          ],
          "name": "stdout"
        }
      ]
    }
  ]
}