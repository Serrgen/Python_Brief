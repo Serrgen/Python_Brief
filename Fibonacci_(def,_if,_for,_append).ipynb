{
  "nbformat": 4,
  "nbformat_minor": 0,
  "metadata": {
    "colab": {
      "name": "Fibonacci_(def, if, for, append).ipynb",
      "provenance": [],
      "collapsed_sections": [],
      "authorship_tag": "ABX9TyN8sha3p1VSb0xlxlalVylQ",
      "include_colab_link": true
    },
    "kernelspec": {
      "name": "python3",
      "display_name": "Python 3"
    },
    "language_info": {
      "name": "python"
    }
  },
  "cells": [
    {
      "cell_type": "markdown",
      "metadata": {
        "id": "view-in-github",
        "colab_type": "text"
      },
      "source": [
        "<a href=\"https://colab.research.google.com/github/Serrgen/Python_Brief/blob/main/Fibonacci_(def%2C_if%2C_for%2C_append).ipynb\" target=\"_parent\"><img src=\"https://colab.research.google.com/assets/colab-badge.svg\" alt=\"Open In Colab\"/></a>"
      ]
    },
    {
      "cell_type": "markdown",
      "metadata": {
        "id": "tWL-DWrgnzSX"
      },
      "source": [
        "Wrtie a program for Fibonacci Sequence\n",
        "\n",
        "The Fibonacci Sequence is the series of numbers:\n",
        "\n",
        "0, 1, 1, 2, 3, 5, 8, 13, 21, 34, ...\n",
        "\n",
        "The next number is found by adding up the two numbers before it"
      ]
    },
    {
      "cell_type": "code",
      "metadata": {
        "id": "IlU3Jao6GoYm",
        "colab": {
          "base_uri": "https://localhost:8080/"
        },
        "outputId": "97b27541-b911-49d9-b02f-886999fde9c5"
      },
      "source": [
        "def Fibonacci(n):\n",
        "    if n < 0:\n",
        "        print(\"Incorrect input\")\n",
        "    elif n == 0:\n",
        "        return 0\n",
        "    elif n == 1 or n == 2:\n",
        "        return 1\n",
        "    else:\n",
        "        return Fibonacci(n-1) + Fibonacci(n-2)\n",
        "list1 = []\n",
        "for i in range(int(input(\"num: \"))):\n",
        "  list1.append(Fibonacci(i))\n",
        "\n",
        "print(list1) "
      ],
      "execution_count": 3,
      "outputs": [
        {
          "output_type": "stream",
          "text": [
            "num: 13\n",
            "[0, 1, 1, 2, 3, 5, 8, 13, 21, 34, 55, 89, 144]\n"
          ],
          "name": "stdout"
        }
      ]
    }
  ]
}