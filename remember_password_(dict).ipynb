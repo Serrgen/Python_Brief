{
  "nbformat": 4,
  "nbformat_minor": 0,
  "metadata": {
    "colab": {
      "name": "remember_password_(dict).ipynb",
      "provenance": [],
      "collapsed_sections": [],
      "authorship_tag": "ABX9TyMlaFoQzS43O1jgF7Qz4gc+",
      "include_colab_link": true
    },
    "kernelspec": {
      "name": "python3",
      "display_name": "Python 3"
    },
    "language_info": {
      "name": "python"
    }
  },
  "cells": [
    {
      "cell_type": "markdown",
      "metadata": {
        "id": "view-in-github",
        "colab_type": "text"
      },
      "source": [
        "<a href=\"https://colab.research.google.com/github/Serrgen/Python_Brief/blob/main/remember_password_(dict).ipynb\" target=\"_parent\"><img src=\"https://colab.research.google.com/assets/colab-badge.svg\" alt=\"Open In Colab\"/></a>"
      ]
    },
    {
      "cell_type": "markdown",
      "metadata": {
        "id": "jd8u8SX-y235"
      },
      "source": [
        "program for remember password"
      ]
    },
    {
      "cell_type": "code",
      "metadata": {
        "id": "neMV45vAD53c",
        "colab": {
          "base_uri": "https://localhost:8080/"
        },
        "outputId": "a2a4b98b-0f77-484f-cd1d-8fa14903c85a"
      },
      "source": [
        "User_list = {\"Joseph\":\"W@12\" , \"ali\" : \"1253\" , \"bruce\" : \"asdr\"}\n",
        "Name = input(\"What  is Your Name: \")\n",
        "if Name in User_list.keys():\n",
        "  print(\"Hello, {}! The password is : {}\".format(Name, User_list[Name]))\n",
        "else:\n",
        "  print(\"Hello, {}! See you later.\".format(Name))"
      ],
      "execution_count": 1,
      "outputs": [
        {
          "output_type": "stream",
          "text": [
            "What  is Your Name: ali\n",
            "Hello, ali! The password is : 1253\n"
          ],
          "name": "stdout"
        }
      ]
    }
  ]
}