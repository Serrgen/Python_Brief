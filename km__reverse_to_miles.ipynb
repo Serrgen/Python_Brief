{
  "nbformat": 4,
  "nbformat_minor": 0,
  "metadata": {
    "colab": {
      "name": "km._reverse_to_miles.ipynb",
      "provenance": [],
      "collapsed_sections": [],
      "authorship_tag": "ABX9TyN9x8Vvp+E0IAkYtpE8sbas",
      "include_colab_link": true
    },
    "kernelspec": {
      "name": "python3",
      "display_name": "Python 3"
    },
    "language_info": {
      "name": "python"
    }
  },
  "cells": [
    {
      "cell_type": "markdown",
      "metadata": {
        "id": "view-in-github",
        "colab_type": "text"
      },
      "source": [
        "<a href=\"https://colab.research.google.com/github/Serrgen/Python_Brief/blob/main/km__reverse_to_miles.ipynb\" target=\"_parent\"><img src=\"https://colab.research.google.com/assets/colab-badge.svg\" alt=\"Open In Colab\"/></a>"
      ]
    },
    {
      "cell_type": "markdown",
      "metadata": {
        "id": "wfgT_JD7ptPK"
      },
      "source": [
        "1 km = 0.621371 miles"
      ]
    },
    {
      "cell_type": "code",
      "metadata": {
        "colab": {
          "base_uri": "https://localhost:8080/"
        },
        "id": "jQm_eiQunq4Q",
        "outputId": "33323ab3-944c-4282-f3b3-32b5b8705626"
      },
      "source": [
        "kilometers = int(input(\"kilometers: \"))\n",
        "# 1 km = 0.621371 miles\n",
        "conv = 0.621371\n",
        "\n",
        "miles = kilometers * conv\n",
        "print(kilometers,\"kilometers is equal to \",miles,\"miles\")"
      ],
      "execution_count": null,
      "outputs": [
        {
          "output_type": "stream",
          "text": [
            "kilometers: 57\n",
            "57 kilometers is equal to  35.418147 miles\n"
          ],
          "name": "stdout"
        }
      ]
    }
  ]
}