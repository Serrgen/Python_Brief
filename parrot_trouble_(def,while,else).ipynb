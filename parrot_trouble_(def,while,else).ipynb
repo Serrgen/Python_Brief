{
  "nbformat": 4,
  "nbformat_minor": 0,
  "metadata": {
    "colab": {
      "name": "parrot_trouble_(def,while,else).ipynb",
      "provenance": [],
      "collapsed_sections": [],
      "authorship_tag": "ABX9TyN0GGVrpr4S9jJUAETWpd7T",
      "include_colab_link": true
    },
    "kernelspec": {
      "name": "python3",
      "display_name": "Python 3"
    },
    "language_info": {
      "name": "python"
    }
  },
  "cells": [
    {
      "cell_type": "markdown",
      "metadata": {
        "id": "view-in-github",
        "colab_type": "text"
      },
      "source": [
        "<a href=\"https://colab.research.google.com/github/Serrgen/Python_Brief/blob/main/parrot_trouble_(def%2Cwhile%2Celse).ipynb\" target=\"_parent\"><img src=\"https://colab.research.google.com/assets/colab-badge.svg\" alt=\"Open In Colab\"/></a>"
      ]
    },
    {
      "cell_type": "markdown",
      "metadata": {
        "id": "tE2LojU6Hixr"
      },
      "source": [
        "parrot talking before 6 and after 21"
      ]
    },
    {
      "cell_type": "code",
      "metadata": {
        "colab": {
          "base_uri": "https://localhost:8080/"
        },
        "id": "R_ClkRneU_na",
        "outputId": "99b49b30-5aba-4677-993b-d3800fbe4601"
      },
      "source": [
        "def parrot_trouble(talking, hour):\n",
        "  while 6 < hour < 21:\n",
        "    return talking is False\n",
        "  else: \n",
        "    return talking is True\n",
        "\n",
        "print(parrot_trouble(True, 5))\n",
        "print(parrot_trouble(True, 8))\n",
        "print(parrot_trouble(False, 22))"
      ],
      "execution_count": null,
      "outputs": [
        {
          "output_type": "stream",
          "text": [
            "True\n",
            "False\n",
            "False\n"
          ],
          "name": "stdout"
        }
      ]
    }
  ]
}