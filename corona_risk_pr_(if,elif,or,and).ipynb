{
  "nbformat": 4,
  "nbformat_minor": 0,
  "metadata": {
    "colab": {
      "name": "corona_risk_pr_(if,elif,or,and).ipynb",
      "provenance": [],
      "collapsed_sections": [],
      "authorship_tag": "ABX9TyP3NfhqJfyS30TnPUTUsLxB",
      "include_colab_link": true
    },
    "kernelspec": {
      "name": "python3",
      "display_name": "Python 3"
    },
    "language_info": {
      "name": "python"
    }
  },
  "cells": [
    {
      "cell_type": "markdown",
      "metadata": {
        "id": "view-in-github",
        "colab_type": "text"
      },
      "source": [
        "<a href=\"https://colab.research.google.com/github/Serrgen/Python_Brief/blob/main/corona_risk_pr_(if%2Celif%2Cor%2Cand).ipynb\" target=\"_parent\"><img src=\"https://colab.research.google.com/assets/colab-badge.svg\" alt=\"Open In Colab\"/></a>"
      ]
    },
    {
      "cell_type": "markdown",
      "metadata": {
        "id": "GRpbnSTNKhvA"
      },
      "source": [
        "corona risk program"
      ]
    },
    {
      "cell_type": "code",
      "metadata": {
        "colab": {
          "base_uri": "https://localhost:8080/"
        },
        "id": "KvFR8lf5VroH",
        "outputId": "92fe9f4d-6a5c-40f9-f42e-ea5a4c13cf6e"
      },
      "source": [
        "age = input(\"Are you a cigarette addict older than 75 years old? \")\n",
        "chronic =  input(\"Do you have a severe chronic disease? \")\n",
        "immune =  input(\"Is your immune system too weak? \")\n",
        "\n",
        "if (age == \"yes\" or chronic == \"yes\" or immune == \"yes\"):\n",
        "  print(\"You are in risky group\")\n",
        "elif (age == \"no\" and chronic == \"no\" and immune == \"no\"):\n",
        "  print(\"You are not in risky group\")"
      ],
      "execution_count": 1,
      "outputs": [
        {
          "output_type": "stream",
          "text": [
            "Are you a cigarette addict older than 75 years old? yes\n",
            "Do you have a severe chronic disease? yes\n",
            "Is your immune system too weak? no\n",
            "You are in risky group\n"
          ],
          "name": "stdout"
        }
      ]
    }
  ]
}