{
  "nbformat": 4,
  "nbformat_minor": 0,
  "metadata": {
    "colab": {
      "name": "sum_between_two_(def,sum,range).ipynb",
      "provenance": [],
      "collapsed_sections": [],
      "authorship_tag": "ABX9TyOnEM38mWU8JNl0A8mK3yaq",
      "include_colab_link": true
    },
    "kernelspec": {
      "name": "python3",
      "display_name": "Python 3"
    },
    "language_info": {
      "name": "python"
    }
  },
  "cells": [
    {
      "cell_type": "markdown",
      "metadata": {
        "id": "view-in-github",
        "colab_type": "text"
      },
      "source": [
        "<a href=\"https://colab.research.google.com/github/Serrgen/Python_Brief/blob/main/sum_between_two_(def%2Csum%2Crange).ipynb\" target=\"_parent\"><img src=\"https://colab.research.google.com/assets/colab-badge.svg\" alt=\"Open In Colab\"/></a>"
      ]
    },
    {
      "cell_type": "markdown",
      "metadata": {
        "id": "lPzRGXU6FbN4"
      },
      "source": [
        "sum the numbers between two entered numbers"
      ]
    },
    {
      "cell_type": "code",
      "metadata": {
        "colab": {
          "base_uri": "https://localhost:8080/"
        },
        "id": "TpHy6zSOfQC7",
        "outputId": "cbc0ec5c-3a9d-4d13-ba48-a144f993432d"
      },
      "source": [
        "def summ1(a,b):\n",
        "  return sum([* range(a+1, b)])\n",
        " \n",
        "num1 = int(input(\"first number: \"))\n",
        "num2 = int(input(\"second number: \"))\n",
        "\n",
        "summ1(num1,num2)"
      ],
      "execution_count": null,
      "outputs": [
        {
          "output_type": "stream",
          "text": [
            "enter first number: 12\n",
            "enter second number: 15\n"
          ],
          "name": "stdout"
        },
        {
          "output_type": "execute_result",
          "data": {
            "text/plain": [
              "27"
            ]
          },
          "metadata": {
            "tags": []
          },
          "execution_count": 1
        }
      ]
    },
    {
      "cell_type": "code",
      "metadata": {
        "colab": {
          "base_uri": "https://localhost:8080/"
        },
        "id": "KjqsW_vaGBVd",
        "outputId": "eb77d946-7508-48f0-ca34-631abf046c0d"
      },
      "source": [
        "num1 = int(input(\"first number: \"))\n",
        "num2 = int(input(\"second number: \"))\n",
        "\n",
        "print(sum([* range(num1+1, num2)]))"
      ],
      "execution_count": 2,
      "outputs": [
        {
          "output_type": "stream",
          "text": [
            "first number: 12\n",
            "second number: 15\n",
            "27\n"
          ],
          "name": "stdout"
        }
      ]
    }
  ]
}