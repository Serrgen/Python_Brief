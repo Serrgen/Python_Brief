{
  "nbformat": 4,
  "nbformat_minor": 0,
  "metadata": {
    "colab": {
      "name": "even_odd_(if,else).ipynb",
      "provenance": [],
      "collapsed_sections": [],
      "authorship_tag": "ABX9TyOBJTKRNrCG/DrKrS+aV1ER",
      "include_colab_link": true
    },
    "kernelspec": {
      "name": "python3",
      "display_name": "Python 3"
    },
    "language_info": {
      "name": "python"
    }
  },
  "cells": [
    {
      "cell_type": "markdown",
      "metadata": {
        "id": "view-in-github",
        "colab_type": "text"
      },
      "source": [
        "<a href=\"https://colab.research.google.com/github/Serrgen/Python_Brief/blob/main/even_odd_(if%2Celse).ipynb\" target=\"_parent\"><img src=\"https://colab.research.google.com/assets/colab-badge.svg\" alt=\"Open In Colab\"/></a>"
      ]
    },
    {
      "cell_type": "markdown",
      "metadata": {
        "id": "STIqJ0yK5eRU"
      },
      "source": [
        "even odd program"
      ]
    },
    {
      "cell_type": "code",
      "metadata": {
        "colab": {
          "base_uri": "https://localhost:8080/"
        },
        "id": "jvDM7a9uq4nk",
        "outputId": "ba1587a3-a960-4ab9-90f2-d869d0ade552"
      },
      "source": [
        "number = int(input(\"enter a number: \"))\n",
        "\n",
        "if number%2==0:\n",
        "\n",
        "  print(number,\"is even\")\n",
        "else :\n",
        "  print(number,\" is odd\")"
      ],
      "execution_count": 10,
      "outputs": [
        {
          "output_type": "stream",
          "text": [
            "enter a number: 57\n",
            "57  is odd\n"
          ],
          "name": "stdout"
        }
      ]
    }
  ]
}