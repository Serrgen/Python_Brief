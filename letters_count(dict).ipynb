{
  "nbformat": 4,
  "nbformat_minor": 0,
  "metadata": {
    "colab": {
      "name": "letters_count(dict).ipynb",
      "provenance": [],
      "authorship_tag": "ABX9TyNpOKdIPQ/kNVh6Qhf7UK6W",
      "include_colab_link": true
    },
    "kernelspec": {
      "name": "python3",
      "display_name": "Python 3"
    },
    "language_info": {
      "name": "python"
    }
  },
  "cells": [
    {
      "cell_type": "markdown",
      "metadata": {
        "id": "view-in-github",
        "colab_type": "text"
      },
      "source": [
        "<a href=\"https://colab.research.google.com/github/Serrgen/Python_Brief/blob/main/letters_count(dict).ipynb\" target=\"_parent\"><img src=\"https://colab.research.google.com/assets/colab-badge.svg\" alt=\"Open In Colab\"/></a>"
      ]
    },
    {
      "cell_type": "code",
      "metadata": {
        "colab": {
          "base_uri": "https://localhost:8080/"
        },
        "id": "jj_fVoodrH2m",
        "outputId": "a7b563ee-374e-4676-db29-c9ff4d5fae06"
      },
      "source": [
        "sentence = input(\"Enter a sentence: \")\n",
        "\n",
        "sent= {}\n",
        "for i in sentence:\n",
        "  sent[i] = sentence.count(i)\n",
        "  \n",
        "print(sent)\n"
      ],
      "execution_count": 7,
      "outputs": [
        {
          "output_type": "stream",
          "text": [
            "Enter a sentence: take it easy\n",
            "{'t': 2, 'a': 2, 'k': 1, 'e': 2, ' ': 2, 'i': 1, 's': 1, 'y': 1}\n"
          ],
          "name": "stdout"
        }
      ]
    }
  ]
}