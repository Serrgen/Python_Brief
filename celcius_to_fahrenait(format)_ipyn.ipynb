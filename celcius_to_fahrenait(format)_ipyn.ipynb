{
  "nbformat": 4,
  "nbformat_minor": 0,
  "metadata": {
    "colab": {
      "name": "celcius_to_fahrenait(format).ipyn",
      "provenance": [],
      "collapsed_sections": [],
      "authorship_tag": "ABX9TyNep0tGxOZYBBzQ9zcOO8Xb",
      "include_colab_link": true
    },
    "kernelspec": {
      "name": "python3",
      "display_name": "Python 3"
    },
    "language_info": {
      "name": "python"
    }
  },
  "cells": [
    {
      "cell_type": "markdown",
      "metadata": {
        "id": "view-in-github",
        "colab_type": "text"
      },
      "source": [
        "<a href=\"https://colab.research.google.com/github/Serrgen/Python_Brief/blob/main/celcius_to_fahrenait(format)_ipyn.ipynb\" target=\"_parent\"><img src=\"https://colab.research.google.com/assets/colab-badge.svg\" alt=\"Open In Colab\"/></a>"
      ]
    },
    {
      "cell_type": "markdown",
      "metadata": {
        "id": "b4wjSMYi1LeA"
      },
      "source": [
        "return celcius degree to fahrenait"
      ]
    },
    {
      "cell_type": "code",
      "metadata": {
        "colab": {
          "base_uri": "https://localhost:8080/"
        },
        "id": "-SVOzft7eIfu",
        "outputId": "046d88b8-75f0-4257-c0c0-d921f6a6fa68"
      },
      "source": [
        "deg = float(input(\"Santigrat derece girin:\"))\n",
        "\n",
        "fah = deg * 1.8 + 32;\n",
        "\n",
        "print('Fahrenait değeri={0}'.format(fah))"
      ],
      "execution_count": 1,
      "outputs": [
        {
          "output_type": "stream",
          "text": [
            "Santigrat derece girin:32\n",
            "Fahrenait değeri=89.6\n"
          ],
          "name": "stdout"
        }
      ]
    }
  ]
}
