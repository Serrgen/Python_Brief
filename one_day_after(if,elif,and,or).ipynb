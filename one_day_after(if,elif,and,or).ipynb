{
  "nbformat": 4,
  "nbformat_minor": 0,
  "metadata": {
    "colab": {
      "name": "one_day_after(if,elif,and,or).ipynb",
      "provenance": [],
      "collapsed_sections": [],
      "authorship_tag": "ABX9TyONcSWbSWnXPdzGKf53pKLj",
      "include_colab_link": true
    },
    "kernelspec": {
      "name": "python3",
      "display_name": "Python 3"
    },
    "language_info": {
      "name": "python"
    }
  },
  "cells": [
    {
      "cell_type": "markdown",
      "metadata": {
        "id": "view-in-github",
        "colab_type": "text"
      },
      "source": [
        "<a href=\"https://colab.research.google.com/github/Serrgen/Python_Brief/blob/main/one_day_after(if%2Celif%2Cand%2Cor).ipynb\" target=\"_parent\"><img src=\"https://colab.research.google.com/assets/colab-badge.svg\" alt=\"Open In Colab\"/></a>"
      ]
    },
    {
      "cell_type": "markdown",
      "metadata": {
        "id": "koc75WPrzbfy"
      },
      "source": [
        "program that outputs one day after the entered date"
      ]
    },
    {
      "cell_type": "code",
      "metadata": {
        "colab": {
          "base_uri": "https://localhost:8080/"
        },
        "id": "WBpYEQQ7GMRX",
        "outputId": "c89c0023-76a1-4fab-d398-ef80f15c1553"
      },
      "source": [
        "year = int(input('Year: '))\n",
        "month = int(input(\"Month: \"))\n",
        "day = int(input(\"Day: \"))\n",
        "\n",
        "if year % 4 == 0 and (year % 100 != 0 or year % 400 == 0):\n",
        "  if month == 2 and day == 28:\n",
        "    print(year, 2, 29)\n",
        "  if month == 2 and day == 29:\n",
        "    print(year, 3, 1)\n",
        "\n",
        "if month in (1, 3, 5, 7, 8, 10, 12) and day < 31:\n",
        "  print (year, month, (day+1), sep=\"-\")\n",
        "elif month in (1, 3, 5, 7, 8, 10) and day == 31:\n",
        "  print(year, month+1, 1)\n",
        "elif month == 12 and day == 31:\n",
        "    print(year+1, 1, 1)\n",
        "\n",
        "if month in (4,6,9,11) and day < 30:\n",
        "  print (year, month, (day+1))\n",
        "elif month in (4,6,9,11) and day == 30:\n",
        "  print(year, month+1, 1)\n",
        "\n",
        "if month == 2 and day < 28:\n",
        "  print (year, month, (day+1))\n",
        "elif month == 2 and day == 28:\n",
        "  print(year, 3, 1)"
      ],
      "execution_count": null,
      "outputs": [
        {
          "output_type": "stream",
          "text": [
            "Year: 1999\n",
            "Month: 3\n",
            "Day: 12\n",
            "1999-3-13\n"
          ],
          "name": "stdout"
        }
      ]
    }
  ]
}